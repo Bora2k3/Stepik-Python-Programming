{
 "cells": [
  {
   "cell_type": "code",
   "execution_count": 4,
   "id": "59e6dc9d-a198-4c71-9d51-9b77dccd46ee",
   "metadata": {
    "collapsed": true,
    "jupyter": {
     "outputs_hidden": true
    },
    "tags": []
   },
   "outputs": [
    {
     "ename": "ZeroDivisionError",
     "evalue": "division by zero",
     "output_type": "error",
     "traceback": [
      "\u001b[1;31m---------------------------------------------------------------------------\u001b[0m",
      "\u001b[1;31mZeroDivisionError\u001b[0m                         Traceback (most recent call last)",
      "\u001b[1;32m<ipython-input-4-2c4ba87b508c>\u001b[0m in \u001b[0;36m<module>\u001b[1;34m\u001b[0m\n\u001b[0;32m      1\u001b[0m \u001b[1;31m# На самом деле, Python 3 не может вычислить подобное выражение, поэтому возникнет ошибка.\u001b[0m\u001b[1;33m\u001b[0m\u001b[1;33m\u001b[0m\u001b[1;33m\u001b[0m\u001b[0m\n\u001b[1;32m----> 2\u001b[1;33m \u001b[1;36m42\u001b[0m \u001b[1;33m/\u001b[0m \u001b[1;33m(\u001b[0m\u001b[1;36m4\u001b[0m \u001b[1;33m+\u001b[0m \u001b[1;36m2\u001b[0m \u001b[1;33m*\u001b[0m \u001b[1;33m(\u001b[0m\u001b[1;33m-\u001b[0m\u001b[1;36m2\u001b[0m\u001b[1;33m)\u001b[0m\u001b[1;33m)\u001b[0m\u001b[1;33m\u001b[0m\u001b[1;33m\u001b[0m\u001b[0m\n\u001b[0m",
      "\u001b[1;31mZeroDivisionError\u001b[0m: division by zero"
     ]
    }
   ],
   "source": [
    "# На самом деле, Python 3 не может вычислить подобное выражение, поэтому возникнет ошибка.\n",
    "42 / (4 + 2 * (-2))"
   ]
  },
  {
   "cell_type": "code",
   "execution_count": 6,
   "id": "dc520924-40b1-437c-97ac-1dd7d60e3f98",
   "metadata": {
    "collapsed": true,
    "jupyter": {
     "outputs_hidden": true
    },
    "tags": []
   },
   "outputs": [
    {
     "data": {
      "text/plain": [
       "1234.5"
      ]
     },
     "execution_count": 6,
     "metadata": {},
     "output_type": "execute_result"
    }
   ],
   "source": [
    "# Запишите число 1.2345e3 в виде десятичной дроби.\n",
    "\n",
    "1.2345e3"
   ]
  },
  {
   "cell_type": "code",
   "execution_count": 7,
   "id": "be225ac4-f853-4073-bff1-e7cbf2732fd4",
   "metadata": {
    "collapsed": true,
    "jupyter": {
     "outputs_hidden": true
    },
    "tags": []
   },
   "outputs": [
    {
     "data": {
      "text/plain": [
       "0.0012345"
      ]
     },
     "execution_count": 7,
     "metadata": {},
     "output_type": "execute_result"
    }
   ],
   "source": [
    "# Запишите число 1.2345e-3 в виде десятичной дроби\n",
    "\n",
    "1.2345e-3"
   ]
  },
  {
   "cell_type": "code",
   "execution_count": 8,
   "id": "edaf13e6-33c2-473b-8aba-c30854f9044e",
   "metadata": {
    "collapsed": true,
    "jupyter": {
     "outputs_hidden": true
    },
    "tags": []
   },
   "outputs": [
    {
     "data": {
      "text/plain": [
       "18064773765607550801425251468864907833685590016"
      ]
     },
     "execution_count": 8,
     "metadata": {},
     "output_type": "execute_result"
    }
   ],
   "source": [
    "# Составьте выражение для вычисления в интерпретаторе Python 3 и вставьте в поле ответа результат вычисления:\n",
    "# 2014 в степени 14\n",
    "\n",
    "2014 ** 14 "
   ]
  },
  {
   "cell_type": "code",
   "execution_count": 9,
   "id": "84f00bb7-2efa-46ac-8097-9f29882d5f1e",
   "metadata": {
    "collapsed": true,
    "jupyter": {
     "outputs_hidden": true
    },
    "tags": []
   },
   "outputs": [
    {
     "data": {
      "text/plain": [
       "2.3333333333333335"
      ]
     },
     "execution_count": 9,
     "metadata": {},
     "output_type": "execute_result"
    }
   ],
   "source": [
    "# Составьте выражение для вычисления в интерпретаторе Python 3 и вставьте в поле ответа результат вычисления:\n",
    "# 7 / 3\n",
    "\n",
    "7 / 3"
   ]
  },
  {
   "cell_type": "code",
   "execution_count": 10,
   "id": "188e911b-8e70-4bd6-a679-6edf6b9fffbc",
   "metadata": {
    "collapsed": true,
    "jupyter": {
     "outputs_hidden": true
    },
    "tags": []
   },
   "outputs": [
    {
     "data": {
      "text/plain": [
       "2"
      ]
     },
     "execution_count": 10,
     "metadata": {},
     "output_type": "execute_result"
    }
   ],
   "source": [
    "# Составьте выражение для вычисления в интерпретаторе Python 3 и вставьте в поле ответа результат вычисления:\n",
    "# 7 // 3\n",
    "\n",
    "7 // 3"
   ]
  },
  {
   "cell_type": "code",
   "execution_count": 11,
   "id": "b7ebd0e5-1d1a-426b-9ccb-87322d9e4049",
   "metadata": {
    "collapsed": true,
    "jupyter": {
     "outputs_hidden": true
    },
    "tags": []
   },
   "outputs": [
    {
     "data": {
      "text/plain": [
       "2"
      ]
     },
     "execution_count": 11,
     "metadata": {},
     "output_type": "execute_result"
    }
   ],
   "source": [
    "# Приведите к целому типу число 2.99\n",
    "\n",
    "int(2.99)"
   ]
  },
  {
   "cell_type": "code",
   "execution_count": 12,
   "id": "601d17a3-31c5-4918-882c-c16ec4dd98eb",
   "metadata": {
    "collapsed": true,
    "jupyter": {
     "outputs_hidden": true
    },
    "tags": []
   },
   "outputs": [
    {
     "data": {
      "text/plain": [
       "-1"
      ]
     },
     "execution_count": 12,
     "metadata": {},
     "output_type": "execute_result"
    }
   ],
   "source": [
    "# Приведите к целому типу число -1.6\n",
    "\n",
    "int(-1.6)"
   ]
  },
  {
   "cell_type": "code",
   "execution_count": 13,
   "id": "91c011ae-9222-4412-bc81-8bc21c47f496",
   "metadata": {
    "collapsed": true,
    "jupyter": {
     "outputs_hidden": true
    },
    "tags": []
   },
   "outputs": [
    {
     "data": {
      "text/plain": [
       "89"
      ]
     },
     "execution_count": 13,
     "metadata": {},
     "output_type": "execute_result"
    }
   ],
   "source": [
    "# Вычислите в python значение выражения\n",
    "\n",
    "9**19 - int(float(9**19))"
   ]
  },
  {
   "cell_type": "code",
   "execution_count": 14,
   "id": "fee069a3-01c2-40ec-b024-0fa7172240d7",
   "metadata": {
    "collapsed": true,
    "jupyter": {
     "outputs_hidden": true
    },
    "tags": []
   },
   "outputs": [
    {
     "name": "stdin",
     "output_type": "stream",
     "text": [
      " 7\n",
      " 30\n"
     ]
    },
    {
     "name": "stdout",
     "output_type": "stream",
     "text": [
      "450\n"
     ]
    }
   ],
   "source": [
    "# Тимофей обычно спит ночью XX часов и устраивает себе днем тихий час на YY минут. Определите, сколько всего минут Тимофей спит в сутки.\n",
    "\n",
    "X = int(input())\n",
    "Y = int(input())\n",
    "print(X*60 + Y)"
   ]
  },
  {
   "cell_type": "code",
   "execution_count": 15,
   "id": "025755ba-06ae-449e-88db-249684a4a518",
   "metadata": {
    "collapsed": true,
    "jupyter": {
     "outputs_hidden": true
    },
    "tags": []
   },
   "outputs": [
    {
     "name": "stdin",
     "output_type": "stream",
     "text": [
      " 480\n"
     ]
    },
    {
     "name": "stdout",
     "output_type": "stream",
     "text": [
      "8\n",
      "0\n"
     ]
    }
   ],
   "source": [
    "# Коля каждый день ложится спать ровно в полночь и недавно узнал, что оптимальное время для его сна составляет XX минут.\n",
    "# Коля хочет поставить себе будильник так, чтобы он прозвенел ровно через XX минут после полуночи,\n",
    "# однако для этого необходимо указать время сигнала в формате часы, минуты. Помогите Коле определить, на какое время завести будильник.\n",
    "# Часы и минуты в выводе программы должны располагаться на разных строках (см. пример работы программы)\n",
    "# Помните, что для считывания данных нужно вызывать функцию input без аргументов!\n",
    "\n",
    "X = int(input())\n",
    "print(X // 60)\n",
    "print(X % 60)"
   ]
  },
  {
   "cell_type": "code",
   "execution_count": 16,
   "id": "cd77e72d-c8ce-4ccd-b9a6-afe01a88435b",
   "metadata": {
    "collapsed": true,
    "jupyter": {
     "outputs_hidden": true
    },
    "tags": []
   },
   "outputs": [
    {
     "name": "stdin",
     "output_type": "stream",
     "text": [
      " 480\n",
      " 1\n",
      " 2\n"
     ]
    },
    {
     "name": "stdout",
     "output_type": "stream",
     "text": [
      "9\n",
      "2\n"
     ]
    }
   ],
   "source": [
    "# Катя узнала, что ей для сна надо XX минут. В отличие от Коли, Катя ложится спать после полуночи в HH часов и MM минут.\n",
    "# Помогите Кате определить, на какое время ей поставить будильник, чтобы он прозвенел ровно через XX минут после того, как она ляжет спать.\n",
    "# На стандартный ввод, каждое в своей строке, подаются значения XX, HH и MM. Гарантируется, что Катя должна проснуться в тот же день, что и заснуть.\n",
    "# Программа должна выводить время, на которое нужно поставить будильник: в первой строке часы, во второй — минуты.\n",
    "\n",
    "X = int(input())\n",
    "H = int(input())\n",
    "M = int(input())\n",
    "print(int(H+(X+M)/60))\n",
    "print(int((M+X)%60))"
   ]
  },
  {
   "cell_type": "code",
   "execution_count": 3,
   "id": "adcbdad5-90a1-4091-93ad-eeacf5a49a52",
   "metadata": {
    "collapsed": true,
    "jupyter": {
     "outputs_hidden": true
    },
    "tags": []
   },
   "outputs": [
    {
     "data": {
      "text/plain": [
       "12345554321"
      ]
     },
     "execution_count": 3,
     "metadata": {},
     "output_type": "execute_result"
    }
   ],
   "source": [
    "# произведение чисел 11111 (5 единиц) и 1111111 (7 единиц)\n",
    "11111 * 1111111"
   ]
  },
  {
   "cell_type": "code",
   "execution_count": 18,
   "id": "d75a8b5e-3e6e-423c-81a9-bb08eb68a73e",
   "metadata": {
    "collapsed": true,
    "jupyter": {
     "outputs_hidden": true
    },
    "tags": []
   },
   "outputs": [
    {
     "data": {
      "text/plain": [
       "False"
      ]
     },
     "execution_count": 18,
     "metadata": {},
     "output_type": "execute_result"
    }
   ],
   "source": [
    "# Найдите результат выражения для заданных значений aa и bb. Учитывайте регистр символов при ответе.\n",
    "\n",
    "a = True\n",
    "b = False\n",
    "a and b or not a and not b"
   ]
  },
  {
   "cell_type": "code",
   "execution_count": 17,
   "id": "789fa03b-3b1b-4d95-8940-c1028844c401",
   "metadata": {
    "collapsed": true,
    "jupyter": {
     "outputs_hidden": true
    },
    "tags": []
   },
   "outputs": [
    {
     "data": {
      "text/plain": [
       "True"
      ]
     },
     "execution_count": 17,
     "metadata": {},
     "output_type": "execute_result"
    }
   ],
   "source": [
    "# Выполните код в интерпретаторе Python 3 и вставьте в поле ответа результат вычисления.\n",
    "# Постарайтесь разобраться, почему интерпретатор выдал именно такой ответ. Помните, что любые арифметические операции выше по приоритету\n",
    "# операций сравнения и логических операторов.\n",
    "\n",
    "x = 5\n",
    "y = 10\n",
    "y > x * x or y >= 2 * x and x < y"
   ]
  },
  {
   "cell_type": "code",
   "execution_count": null,
   "id": "367ce410-bf73-4326-94d0-b9d914b946cb",
   "metadata": {},
   "outputs": [],
   "source": []
  },
  {
   "cell_type": "code",
   "execution_count": 1,
   "id": "c24bd91e-b801-495b-af8e-e21ed4d188a5",
   "metadata": {
    "collapsed": true,
    "jupyter": {
     "outputs_hidden": true
    },
    "tags": []
   },
   "outputs": [
    {
     "name": "stdin",
     "output_type": "stream",
     "text": [
      " 6\n",
      " 10\n",
      " 10\n"
     ]
    },
    {
     "name": "stdout",
     "output_type": "stream",
     "text": [
      "Это нормально\n"
     ]
    }
   ],
   "source": [
    "# Из передачи “Здоровье” Аня узнала, что рекомендуется спать хотя бы A часов в сутки, но пересыпать тоже вредно и не стоит спать более B часов.\n",
    "# Сейчас Аня спит H часов в сутки. Если режим сна Ани удовлетворяет рекомендациям передачи “Здоровье”, выведите “Это нормально”.\n",
    "# Если Аня спит менее A часов, выведите “Недосып”, если же более B часов, то выведите “Пересып”.\n",
    "A = int(input())\n",
    "B = int(input())\n",
    "H = int(input())\n",
    "\n",
    "if A <= H <= B:\n",
    "    print('Это нормально')\n",
    "elif A > H:\n",
    "    print('Недосып')\n",
    "elif H > B:\n",
    "    print('Пересып')"
   ]
  },
  {
   "cell_type": "code",
   "execution_count": null,
   "id": "c40b8125-94c0-4470-bba4-f11ee1df23dc",
   "metadata": {},
   "outputs": [],
   "source": []
  },
  {
   "cell_type": "code",
   "execution_count": 1,
   "id": "474be432-ea95-44b0-a5f5-0a281b32fa35",
   "metadata": {
    "tags": []
   },
   "outputs": [
    {
     "name": "stdin",
     "output_type": "stream",
     "text": [
      " 2000\n"
     ]
    },
    {
     "name": "stdout",
     "output_type": "stream",
     "text": [
      "Високосный\n"
     ]
    }
   ],
   "source": [
    "# Требуется определить, является ли данный год високосным.\n",
    "# Напомним, что високосными годами считаются те годы, порядковый номер которых либо кратен 4, но при этом не кратен 100, либо кратен 400\n",
    "# (например, 2000-й год являлся високосным, а 2100-й будет невисокосным годом).\n",
    "\n",
    "Y = int(input())\n",
    "\n",
    "if (Y % 4 == 0) and (Y % 100 != 0) or (Y % 400 == 0):\n",
    "    print('Високосный')\n",
    "else:\n",
    "    print('Обычный')"
   ]
  },
  {
   "cell_type": "code",
   "execution_count": 2,
   "id": "7bbf828b-0f1a-4c0c-af53-18e68a25cdda",
   "metadata": {
    "collapsed": true,
    "jupyter": {
     "outputs_hidden": true
    },
    "tags": []
   },
   "outputs": [
    {
     "name": "stdin",
     "output_type": "stream",
     "text": [
      " 3\n",
      " 4\n",
      " 5\n"
     ]
    },
    {
     "name": "stdout",
     "output_type": "stream",
     "text": [
      "6.0\n"
     ]
    }
   ],
   "source": [
    "# В то далёкое время, когда Паша ходил в школу, ему очень не нравилась формула Герона для вычисления площади треугольника,\n",
    "# так как казалась слишком сложной. В один прекрасный момент Павел решил избавить всех школьников от страданий и написать и\n",
    "# распространить по школам программу, вычисляющую площадь треугольника по трём сторонам. Одна проблема: так как эта формула не нравилась Павлу,\n",
    "# он её не запомнил. Помогите ему завершить доброе дело и напишите программу, вычисляющую площадь треугольника по переданным длинам трёх его\n",
    "# сторон по формуле Герона.\n",
    "\n",
    "a = int(input())\n",
    "b = int(input())\n",
    "c = int(input())\n",
    "\n",
    "p = (a + b + c) / 2\n",
    "S = (p * (p - a) * (p - b) * (p - c)) ** 0.5\n",
    "print(S)"
   ]
  },
  {
   "cell_type": "code",
   "execution_count": 3,
   "id": "08e2c618-aefe-4348-96b3-aa6b9f54af25",
   "metadata": {
    "collapsed": true,
    "jupyter": {
     "outputs_hidden": true
    },
    "tags": []
   },
   "outputs": [
    {
     "name": "stdin",
     "output_type": "stream",
     "text": [
      " 20\n"
     ]
    },
    {
     "name": "stdout",
     "output_type": "stream",
     "text": [
      "True\n"
     ]
    }
   ],
   "source": [
    "# Напишите программу, принимающую на вход целое число, которая выводит True, если переданное значение попадает в интервал \n",
    "# (-15, 12] \\cup (14, 17) \\cup [19, +\\infty)(−15,12]∪(14,17)∪[19,+∞) и False в противном случае (регистр символов имеет значение).\n",
    "# Обратите внимание на разные скобки, используемые для обозначения интервалов. В задании используются полуоткрытые и открытые интервалы.\n",
    "# Подробнее про это вы можете прочитать, например, на википедии (полуинтервал, промежуток).\n",
    "\n",
    "a = int(input())\n",
    "\n",
    "if ((a > -15 and a <= 12) or (a > 14 and a < 17) or (a >= 19)):\n",
    "    print('True')\n",
    "else:\n",
    "    print('False')"
   ]
  },
  {
   "cell_type": "code",
   "execution_count": 10,
   "id": "8ecc0df6-c23a-4ba1-b336-2e970646fc5f",
   "metadata": {
    "collapsed": true,
    "jupyter": {
     "outputs_hidden": true
    },
    "tags": []
   },
   "outputs": [
    {
     "name": "stdin",
     "output_type": "stream",
     "text": [
      " 5.0\n",
      " 0.0\n",
      " mod\n"
     ]
    },
    {
     "name": "stdout",
     "output_type": "stream",
     "text": [
      "Деление на 0!\n"
     ]
    }
   ],
   "source": [
    "# Напишите простой калькулятор, который считывает с пользовательского ввода три строки: первое число, второе число и операцию,\n",
    "# после чего применяет операцию к введённым числам (\"первое число\" \"операция\" \"второе число\") и выводит результат на экран.\n",
    "\n",
    "# Поддерживаемые операции: +, -, /, *, mod, pow, div, где\n",
    "# mod — это взятие остатка от деления,\n",
    "# pow — возведение в степень,\n",
    "# div — целочисленное деление.\n",
    "\n",
    "# Если выполняется деление и второе число равно 0, необходимо выводить строку \"Деление на 0!\".\n",
    "\n",
    "# Обратите внимание, что на вход программе приходят вещественные числа.\n",
    "\n",
    "a, b = float(input()), float(input())\n",
    "op = input()\n",
    "\n",
    "if (op == 'div' or op == '/' or op == 'mod') and b == 0:\n",
    "    print('Деление на 0!')\n",
    "elif op == '+':\n",
    "    print(a + b)\n",
    "elif op == '-':\n",
    "    print(a - b)\n",
    "elif op == '*':\n",
    "    print(a * b)\n",
    "elif op == 'pow':\n",
    "    print(a ** b)\n",
    "elif op == 'div':    \n",
    "    print(a // b)    \n",
    "elif op == '/':\n",
    "    print(a / b)\n",
    "elif op == 'mod':\n",
    "    print(a % b)\n"
   ]
  },
  {
   "cell_type": "code",
   "execution_count": 11,
   "id": "5683194d-7925-4944-bd70-bd47ff6346c7",
   "metadata": {
    "collapsed": true,
    "jupyter": {
     "outputs_hidden": true
    },
    "tags": []
   },
   "outputs": [
    {
     "name": "stdin",
     "output_type": "stream",
     "text": [
      " прямоугольник\n",
      " 4\n",
      " 10\n"
     ]
    },
    {
     "name": "stdout",
     "output_type": "stream",
     "text": [
      "40.0\n"
     ]
    }
   ],
   "source": [
    "# Жители страны Малевии часто экспериментируют с планировкой комнат. Комнаты бывают треугольные, прямоугольные и круглые.\n",
    "# Чтобы быстро вычислять жилплощадь, требуется написать программу, на вход которой подаётся тип фигуры комнаты и соответствующие параметры,\n",
    "# которая бы выводила площадь получившейся комнаты.\n",
    "# Для числа π в стране Малевии используют значение 3.14.\n",
    "\n",
    "figure = input()\n",
    "\n",
    "if figure == 'треугольник':\n",
    "    a, b, c = int(input()), int(input()), int(input())\n",
    "    p = (a + b + c) / 2\n",
    "    print(float((p * (p - a) * (p - b) * (p - c)) ** 0.5))\n",
    "elif figure == 'прямоугольник':\n",
    "    a, b = int(input()), int(input())\n",
    "    print(float(a * b))\n",
    "elif figure == 'круг':\n",
    "    r = int(input())\n",
    "    print(float(3.14 * r ** 2))"
   ]
  },
  {
   "cell_type": "code",
   "execution_count": 12,
   "id": "2fef3721-96b9-4edf-8149-80d64c7fd834",
   "metadata": {
    "collapsed": true,
    "jupyter": {
     "outputs_hidden": true
    },
    "tags": []
   },
   "outputs": [
    {
     "name": "stdin",
     "output_type": "stream",
     "text": [
      " 8\n",
      " 2\n",
      " 14\n"
     ]
    },
    {
     "name": "stdout",
     "output_type": "stream",
     "text": [
      "14\n",
      "2\n",
      "8\n"
     ]
    }
   ],
   "source": [
    "# Напишите программу, которая получает на вход три целых числа, по одному числу в строке, и выводит на консоль в три строки сначала максимальное,\n",
    "# потом минимальное, после чего оставшееся число.\n",
    "# На ввод могут подаваться и повторяющиеся числа.\n",
    "\n",
    "a, b, c = int(input()), int(input()), int(input())\n",
    "\n",
    "s = a + b + c;\n",
    "print(max(a,b,c))\n",
    "print(min(a,b,c))\n",
    "print(s - max(a,b,c) - min(a,b,c))"
   ]
  },
  {
   "cell_type": "code",
   "execution_count": 15,
   "id": "2ae1c21f-f89d-467f-86d7-b412688ff6ee",
   "metadata": {
    "collapsed": true,
    "jupyter": {
     "outputs_hidden": true
    },
    "tags": []
   },
   "outputs": [
    {
     "name": "stdin",
     "output_type": "stream",
     "text": [
      " 5\n"
     ]
    },
    {
     "name": "stdout",
     "output_type": "stream",
     "text": [
      "5 программистов\n"
     ]
    }
   ],
   "source": [
    "# В институте биоинформатики по офису передвигается робот. Недавно студенты из группы программистов написали для него программу,\n",
    "# по которой робот, когда заходит в комнату, считает количество программистов в ней и произносит его вслух: \"n программистов\".\n",
    "# Для того, чтобы это звучало правильно, для каждого nn нужно использовать верное окончание слова.\n",
    "# Напишите программу, считывающую с пользовательского ввода целое число nn (неотрицательное), выводящее это число в консоль\n",
    "# вместе с правильным образом изменённым словом \"программист\", для того, чтобы робот мог нормально общаться с людьми,\n",
    "# например: 1 программист, 2 программиста, 5 программистов.\n",
    "# В комнате может быть очень много программистов. Проверьте, что ваша программа правильно обработает все случаи, как минимум до 1000 человек.\n",
    "# Дополнительный комментарий к условию:\n",
    "# Обратите внимание, что задача не так проста, как кажется на первый взгляд. Если ваше решение не проходит какой-то тест, это значит,\n",
    "# что вы не рассмотрели какой-то из случаев входных данных (число программистов 0 \\le n \\le 10000≤n≤1000).\n",
    "# Обязательно проверяйте свои решения на дополнительных значениях, а не только на тех, что приведены в условии задания.\n",
    "# Так как задание повышенной сложности, вручную код решений проверяться не будет. Если вы столкнулись с ошибкой в первых четырёх тестах,\n",
    "# проверьте, что вы используете только русские символы для ответа. В остальных случаях ищите ошибку в логике работы программы.\n",
    "\n",
    "number = int(input())\n",
    "version1 =' программистов'\n",
    "version2 =' программист'\n",
    "version3 =' программиста'\n",
    "if number>=0:\n",
    "  if number==0:\n",
    "    print(str(number) + version1)\n",
    "  elif number % 100 >= 10 and number % 100 <= 20:\n",
    "    print(str(number) + version1)\n",
    "  elif number % 10 == 1:\n",
    "    print(str(number) + version2)\n",
    "  elif number % 10 >= 2 and number %10 <= 4:\n",
    "    print(str(number) + version3)\n",
    "  else:\n",
    "    print(str(number) + version1)\n"
   ]
  },
  {
   "cell_type": "code",
   "execution_count": 16,
   "id": "182d09b9-edfd-4c33-9b35-9f7a3b97128f",
   "metadata": {
    "collapsed": true,
    "jupyter": {
     "outputs_hidden": true
    },
    "tags": []
   },
   "outputs": [
    {
     "name": "stdin",
     "output_type": "stream",
     "text": [
      " 123123\n"
     ]
    },
    {
     "name": "stdout",
     "output_type": "stream",
     "text": [
      "Счастливый\n"
     ]
    }
   ],
   "source": [
    "# Паша очень любит кататься на общественном транспорте, а получая билет, сразу проверяет, счастливый ли ему попался.\n",
    "# Билет считается счастливым, если сумма первых трех цифр совпадает с суммой последних трех цифр номера билета.\n",
    "# Однако Паша очень плохо считает в уме, поэтому попросил вас написать программу, которая проверит равенство сумм и выведет \"Счастливый\",\n",
    "# если суммы совпадают, и \"Обычный\", если суммы различны.\n",
    "# На вход программе подаётся строка из шести цифр.\n",
    "# Выводить нужно только слово \"Счастливый\" или \"Обычный\", с большой буквы.\n",
    "\n",
    "s = str(input())\n",
    "sum1 = int(s[0]) + int(s[1]) + int(s[2])\n",
    "sum2 = int(s[3]) + int(s[4]) + int(s[5])\n",
    "if sum1 == sum2:\n",
    "  print('Счастливый')\n",
    "else:\n",
    "  print('Обычный')"
   ]
  },
  {
   "cell_type": "code",
   "execution_count": 4,
   "id": "f4f6e2db-2603-4538-98b2-cac5ff8f800a",
   "metadata": {
    "collapsed": true,
    "jupyter": {
     "outputs_hidden": true
    },
    "tags": []
   },
   "outputs": [
    {
     "name": "stdin",
     "output_type": "stream",
     "text": [
      " 5\n",
      " -3\n",
      " 8\n",
      " 4\n",
      " 0\n"
     ]
    },
    {
     "name": "stdout",
     "output_type": "stream",
     "text": [
      "14\n"
     ]
    }
   ],
   "source": [
    "# Напишите программу, которая считывает со стандартного ввода целые числа, по одному числу в строке,\n",
    "# и после первого введенного нуля выводит сумму полученных на вход чисел.\n",
    "\n",
    "i = int(input())\n",
    "summa = 0\n",
    "while i !=0:\n",
    "    summa = summa + i\n",
    "    i = int(input())\n",
    "print(summa)"
   ]
  },
  {
   "cell_type": "code",
   "execution_count": null,
   "id": "0459bf38-0db7-4933-906e-06dec6923b97",
   "metadata": {},
   "outputs": [],
   "source": [
    "# В Институте биоинформатики между информатиками и биологами устраивается соревнование. Победителям соревнования достанется\n",
    "# большой и вкусный пирог. В команде биологов a человек, а в команде информатиков — b человек.\n",
    "# Нужно заранее разрезать пирог таким образом, чтобы можно было раздать кусочки пирога любой команде, выигравшей соревнование,\n",
    "# при этом каждому участнику этой команды должно достаться одинаковое число кусочков пирога. И так как не хочется резать пирог\n",
    "# на слишком мелкие кусочки, нужно найти минимальное подходящее число.\n",
    "# Напишите программу, которая помогает найти это число.\n",
    "# Программа должна считывать размеры команд (два положительных целых числа a и b, каждое число вводится на отдельной строке)\n",
    "# и выводить наименьшее число d, которое делится на оба этих числа без остатка.\n",
    "\n",
    "a, b = int(input()), int(input())\n",
    "\n",
    "d = 1\n",
    "k = 2\n",
    "while d<k:\n",
    "  if d % a == 0 and d % b == 0:\n",
    "    k=d\n",
    "  else:\n",
    "    d=d+1\n",
    "    k=k+1\n",
    "print(d)"
   ]
  }
 ],
 "metadata": {
  "kernelspec": {
   "display_name": "Python 3",
   "language": "python",
   "name": "python3"
  },
  "language_info": {
   "codemirror_mode": {
    "name": "ipython",
    "version": 3
   },
   "file_extension": ".py",
   "mimetype": "text/x-python",
   "name": "python",
   "nbconvert_exporter": "python",
   "pygments_lexer": "ipython3",
   "version": "3.6.8"
  }
 },
 "nbformat": 4,
 "nbformat_minor": 5
}
