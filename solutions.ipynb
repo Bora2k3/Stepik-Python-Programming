{
 "cells": [
  {
   "cell_type": "code",
   "execution_count": 4,
   "id": "59e6dc9d-a198-4c71-9d51-9b77dccd46ee",
   "metadata": {
    "collapsed": true,
    "jupyter": {
     "outputs_hidden": true
    },
    "tags": []
   },
   "outputs": [
    {
     "ename": "ZeroDivisionError",
     "evalue": "division by zero",
     "output_type": "error",
     "traceback": [
      "\u001b[1;31m---------------------------------------------------------------------------\u001b[0m",
      "\u001b[1;31mZeroDivisionError\u001b[0m                         Traceback (most recent call last)",
      "\u001b[1;32m<ipython-input-4-2c4ba87b508c>\u001b[0m in \u001b[0;36m<module>\u001b[1;34m\u001b[0m\n\u001b[0;32m      1\u001b[0m \u001b[1;31m# На самом деле, Python 3 не может вычислить подобное выражение, поэтому возникнет ошибка.\u001b[0m\u001b[1;33m\u001b[0m\u001b[1;33m\u001b[0m\u001b[1;33m\u001b[0m\u001b[0m\n\u001b[1;32m----> 2\u001b[1;33m \u001b[1;36m42\u001b[0m \u001b[1;33m/\u001b[0m \u001b[1;33m(\u001b[0m\u001b[1;36m4\u001b[0m \u001b[1;33m+\u001b[0m \u001b[1;36m2\u001b[0m \u001b[1;33m*\u001b[0m \u001b[1;33m(\u001b[0m\u001b[1;33m-\u001b[0m\u001b[1;36m2\u001b[0m\u001b[1;33m)\u001b[0m\u001b[1;33m)\u001b[0m\u001b[1;33m\u001b[0m\u001b[1;33m\u001b[0m\u001b[0m\n\u001b[0m",
      "\u001b[1;31mZeroDivisionError\u001b[0m: division by zero"
     ]
    }
   ],
   "source": [
    "# На самом деле, Python 3 не может вычислить подобное выражение, поэтому возникнет ошибка.\n",
    "42 / (4 + 2 * (-2))"
   ]
  },
  {
   "cell_type": "code",
   "execution_count": 6,
   "id": "dc520924-40b1-437c-97ac-1dd7d60e3f98",
   "metadata": {
    "collapsed": true,
    "jupyter": {
     "outputs_hidden": true
    },
    "tags": []
   },
   "outputs": [
    {
     "data": {
      "text/plain": [
       "1234.5"
      ]
     },
     "execution_count": 6,
     "metadata": {},
     "output_type": "execute_result"
    }
   ],
   "source": [
    "# Запишите число 1.2345e3 в виде десятичной дроби.\n",
    "\n",
    "1.2345e3"
   ]
  },
  {
   "cell_type": "code",
   "execution_count": 7,
   "id": "be225ac4-f853-4073-bff1-e7cbf2732fd4",
   "metadata": {
    "collapsed": true,
    "jupyter": {
     "outputs_hidden": true
    },
    "tags": []
   },
   "outputs": [
    {
     "data": {
      "text/plain": [
       "0.0012345"
      ]
     },
     "execution_count": 7,
     "metadata": {},
     "output_type": "execute_result"
    }
   ],
   "source": [
    "# Запишите число 1.2345e-3 в виде десятичной дроби\n",
    "\n",
    "1.2345e-3"
   ]
  },
  {
   "cell_type": "code",
   "execution_count": 8,
   "id": "edaf13e6-33c2-473b-8aba-c30854f9044e",
   "metadata": {
    "collapsed": true,
    "jupyter": {
     "outputs_hidden": true
    },
    "tags": []
   },
   "outputs": [
    {
     "data": {
      "text/plain": [
       "18064773765607550801425251468864907833685590016"
      ]
     },
     "execution_count": 8,
     "metadata": {},
     "output_type": "execute_result"
    }
   ],
   "source": [
    "# Составьте выражение для вычисления в интерпретаторе Python 3 и вставьте в поле ответа результат вычисления:\n",
    "# 2014 в степени 14\n",
    "\n",
    "2014 ** 14 "
   ]
  },
  {
   "cell_type": "code",
   "execution_count": 9,
   "id": "84f00bb7-2efa-46ac-8097-9f29882d5f1e",
   "metadata": {
    "collapsed": true,
    "jupyter": {
     "outputs_hidden": true
    },
    "tags": []
   },
   "outputs": [
    {
     "data": {
      "text/plain": [
       "2.3333333333333335"
      ]
     },
     "execution_count": 9,
     "metadata": {},
     "output_type": "execute_result"
    }
   ],
   "source": [
    "# Составьте выражение для вычисления в интерпретаторе Python 3 и вставьте в поле ответа результат вычисления:\n",
    "# 7 / 3\n",
    "\n",
    "7 / 3"
   ]
  },
  {
   "cell_type": "code",
   "execution_count": 10,
   "id": "188e911b-8e70-4bd6-a679-6edf6b9fffbc",
   "metadata": {
    "collapsed": true,
    "jupyter": {
     "outputs_hidden": true
    },
    "tags": []
   },
   "outputs": [
    {
     "data": {
      "text/plain": [
       "2"
      ]
     },
     "execution_count": 10,
     "metadata": {},
     "output_type": "execute_result"
    }
   ],
   "source": [
    "# Составьте выражение для вычисления в интерпретаторе Python 3 и вставьте в поле ответа результат вычисления:\n",
    "# 7 // 3\n",
    "\n",
    "7 // 3"
   ]
  },
  {
   "cell_type": "code",
   "execution_count": 11,
   "id": "b7ebd0e5-1d1a-426b-9ccb-87322d9e4049",
   "metadata": {
    "collapsed": true,
    "jupyter": {
     "outputs_hidden": true
    },
    "tags": []
   },
   "outputs": [
    {
     "data": {
      "text/plain": [
       "2"
      ]
     },
     "execution_count": 11,
     "metadata": {},
     "output_type": "execute_result"
    }
   ],
   "source": [
    "# Приведите к целому типу число 2.99\n",
    "\n",
    "int(2.99)"
   ]
  },
  {
   "cell_type": "code",
   "execution_count": 12,
   "id": "601d17a3-31c5-4918-882c-c16ec4dd98eb",
   "metadata": {
    "collapsed": true,
    "jupyter": {
     "outputs_hidden": true
    },
    "tags": []
   },
   "outputs": [
    {
     "data": {
      "text/plain": [
       "-1"
      ]
     },
     "execution_count": 12,
     "metadata": {},
     "output_type": "execute_result"
    }
   ],
   "source": [
    "# Приведите к целому типу число -1.6\n",
    "\n",
    "int(-1.6)"
   ]
  },
  {
   "cell_type": "code",
   "execution_count": 13,
   "id": "91c011ae-9222-4412-bc81-8bc21c47f496",
   "metadata": {
    "collapsed": true,
    "jupyter": {
     "outputs_hidden": true
    },
    "tags": []
   },
   "outputs": [
    {
     "data": {
      "text/plain": [
       "89"
      ]
     },
     "execution_count": 13,
     "metadata": {},
     "output_type": "execute_result"
    }
   ],
   "source": [
    "# Вычислите в python значение выражения\n",
    "\n",
    "9**19 - int(float(9**19))"
   ]
  },
  {
   "cell_type": "code",
   "execution_count": 14,
   "id": "fee069a3-01c2-40ec-b024-0fa7172240d7",
   "metadata": {
    "collapsed": true,
    "jupyter": {
     "outputs_hidden": true
    },
    "tags": []
   },
   "outputs": [
    {
     "name": "stdin",
     "output_type": "stream",
     "text": [
      " 7\n",
      " 30\n"
     ]
    },
    {
     "name": "stdout",
     "output_type": "stream",
     "text": [
      "450\n"
     ]
    }
   ],
   "source": [
    "# Тимофей обычно спит ночью XX часов и устраивает себе днем тихий час на YY минут. Определите, сколько всего минут Тимофей спит в сутки.\n",
    "\n",
    "X = int(input())\n",
    "Y = int(input())\n",
    "print(X*60 + Y)"
   ]
  },
  {
   "cell_type": "code",
   "execution_count": 15,
   "id": "025755ba-06ae-449e-88db-249684a4a518",
   "metadata": {
    "collapsed": true,
    "jupyter": {
     "outputs_hidden": true
    },
    "tags": []
   },
   "outputs": [
    {
     "name": "stdin",
     "output_type": "stream",
     "text": [
      " 480\n"
     ]
    },
    {
     "name": "stdout",
     "output_type": "stream",
     "text": [
      "8\n",
      "0\n"
     ]
    }
   ],
   "source": [
    "# Коля каждый день ложится спать ровно в полночь и недавно узнал, что оптимальное время для его сна составляет XX минут. Коля хочет поставить себе будильник так, чтобы он прозвенел ровно через XX минут после полуночи,\n",
    "# однако для этого необходимо указать время сигнала в формате часы, минуты. Помогите Коле определить, на какое время завести будильник.\n",
    "# Часы и минуты в выводе программы должны располагаться на разных строках (см. пример работы программы)\n",
    "# Помните, что для считывания данных нужно вызывать функцию input без аргументов!\n",
    "\n",
    "X = int(input())\n",
    "print(X // 60)\n",
    "print(X % 60)"
   ]
  },
  {
   "cell_type": "code",
   "execution_count": 16,
   "id": "cd77e72d-c8ce-4ccd-b9a6-afe01a88435b",
   "metadata": {
    "collapsed": true,
    "jupyter": {
     "outputs_hidden": true
    },
    "tags": []
   },
   "outputs": [
    {
     "name": "stdin",
     "output_type": "stream",
     "text": [
      " 480\n",
      " 1\n",
      " 2\n"
     ]
    },
    {
     "name": "stdout",
     "output_type": "stream",
     "text": [
      "9\n",
      "2\n"
     ]
    }
   ],
   "source": [
    "# Катя узнала, что ей для сна надо XX минут. В отличие от Коли, Катя ложится спать после полуночи в HH часов и MM минут.\n",
    "# Помогите Кате определить, на какое время ей поставить будильник, чтобы он прозвенел ровно через XX минут после того, как она ляжет спать.\n",
    "# На стандартный ввод, каждое в своей строке, подаются значения XX, HH и MM. Гарантируется, что Катя должна проснуться в тот же день, что и заснуть.\n",
    "# Программа должна выводить время, на которое нужно поставить будильник: в первой строке часы, во второй — минуты.\n",
    "\n",
    "X = int(input())\n",
    "H = int(input())\n",
    "M = int(input())\n",
    "print(int(H+(X+M)/60))\n",
    "print(int((M+X)%60))"
   ]
  },
  {
   "cell_type": "code",
   "execution_count": 3,
   "id": "adcbdad5-90a1-4091-93ad-eeacf5a49a52",
   "metadata": {
    "collapsed": true,
    "jupyter": {
     "outputs_hidden": true
    },
    "tags": []
   },
   "outputs": [
    {
     "data": {
      "text/plain": [
       "12345554321"
      ]
     },
     "execution_count": 3,
     "metadata": {},
     "output_type": "execute_result"
    }
   ],
   "source": [
    "# произведение чисел 11111 (5 единиц) и 1111111 (7 единиц)\n",
    "11111 * 1111111"
   ]
  },
  {
   "cell_type": "code",
   "execution_count": 18,
   "id": "d75a8b5e-3e6e-423c-81a9-bb08eb68a73e",
   "metadata": {
    "collapsed": true,
    "jupyter": {
     "outputs_hidden": true
    },
    "tags": []
   },
   "outputs": [
    {
     "data": {
      "text/plain": [
       "False"
      ]
     },
     "execution_count": 18,
     "metadata": {},
     "output_type": "execute_result"
    }
   ],
   "source": [
    "# Найдите результат выражения для заданных значений aa и bb. Учитывайте регистр символов при ответе.\n",
    "\n",
    "a = True\n",
    "b = False\n",
    "a and b or not a and not b"
   ]
  },
  {
   "cell_type": "code",
   "execution_count": 17,
   "id": "789fa03b-3b1b-4d95-8940-c1028844c401",
   "metadata": {
    "collapsed": true,
    "jupyter": {
     "outputs_hidden": true
    },
    "tags": []
   },
   "outputs": [
    {
     "data": {
      "text/plain": [
       "True"
      ]
     },
     "execution_count": 17,
     "metadata": {},
     "output_type": "execute_result"
    }
   ],
   "source": [
    "# Выполните код в интерпретаторе Python 3 и вставьте в поле ответа результат вычисления.\n",
    "# Постарайтесь разобраться, почему интерпретатор выдал именно такой ответ. Помните, что любые арифметические операции выше по приоритету операций сравнения и логических операторов.\n",
    "\n",
    "x = 5\n",
    "y = 10\n",
    "y > x * x or y >= 2 * x and x < y"
   ]
  },
  {
   "cell_type": "code",
   "execution_count": null,
   "id": "367ce410-bf73-4326-94d0-b9d914b946cb",
   "metadata": {},
   "outputs": [],
   "source": []
  },
  {
   "cell_type": "code",
   "execution_count": 1,
   "id": "c24bd91e-b801-495b-af8e-e21ed4d188a5",
   "metadata": {
    "collapsed": true,
    "jupyter": {
     "outputs_hidden": true
    },
    "tags": []
   },
   "outputs": [
    {
     "name": "stdin",
     "output_type": "stream",
     "text": [
      " 6\n",
      " 10\n",
      " 10\n"
     ]
    },
    {
     "name": "stdout",
     "output_type": "stream",
     "text": [
      "Это нормально\n"
     ]
    }
   ],
   "source": [
    "# Из передачи “Здоровье” Аня узнала, что рекомендуется спать хотя бы A часов в сутки, но пересыпать тоже вредно и не стоит спать более BB часов. Сейчас Аня спит H часов в сутки.\n",
    "# Если режим сна Ани удовлетворяет рекомендациям передачи “Здоровье”, выведите “Это нормально”. Если Аня спит менее A часов, выведите “Недосып”, если же более B часов, то выведите “Пересып”.\n",
    "A = int(input())\n",
    "B = int(input())\n",
    "H = int(input())\n",
    "\n",
    "if A <= H <= B:\n",
    "    print('Это нормально')\n",
    "elif A > H:\n",
    "    print('Недосып')\n",
    "elif H > B:\n",
    "    print('Пересып')"
   ]
  },
  {
   "cell_type": "code",
   "execution_count": null,
   "id": "c40b8125-94c0-4470-bba4-f11ee1df23dc",
   "metadata": {},
   "outputs": [],
   "source": []
  },
  {
   "cell_type": "code",
   "execution_count": 2,
   "id": "474be432-ea95-44b0-a5f5-0a281b32fa35",
   "metadata": {
    "collapsed": true,
    "jupyter": {
     "outputs_hidden": true
    },
    "tags": []
   },
   "outputs": [
    {
     "name": "stdin",
     "output_type": "stream",
     "text": [
      " 2000\n"
     ]
    },
    {
     "name": "stdout",
     "output_type": "stream",
     "text": [
      "Високосный\n"
     ]
    }
   ],
   "source": [
    "# Требуется определить, является ли данный год високосным.\n",
    "#Напомним, что високосными годами считаются те годы, порядковый номер которых либо кратен 4, но при этом не кратен 100, либо кратен 400 (например, 2000-й год являлся високосным, а 2100-й будет невисокосным годом).\n",
    "\n",
    "Y = int(input())\n",
    "\n",
    "if (Y % 4 == 0) and (Y % 100 != 0) or (Y % 400 == 0):\n",
    "    print('Високосный')\n",
    "else:\n",
    "    print('Обычный')"
   ]
  }
 ],
 "metadata": {
  "kernelspec": {
   "display_name": "Python 3",
   "language": "python",
   "name": "python3"
  },
  "language_info": {
   "codemirror_mode": {
    "name": "ipython",
    "version": 3
   },
   "file_extension": ".py",
   "mimetype": "text/x-python",
   "name": "python",
   "nbconvert_exporter": "python",
   "pygments_lexer": "ipython3",
   "version": "3.6.8"
  }
 },
 "nbformat": 4,
 "nbformat_minor": 5
}
